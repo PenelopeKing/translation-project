{
 "cells": [
  {
   "cell_type": "markdown",
   "metadata": {},
   "source": [
    "# Example.iypnb\n",
    "\n",
    "This notebook demos how to use the code in the most barebones format. It shows you how to run my pipeline to train the models and reproduce my results.\n",
    "\n",
    "From the built code and vocabulary you can then use the models for translation using `translate_sentence`."
   ]
  },
  {
   "cell_type": "code",
   "execution_count": 1,
   "metadata": {},
   "outputs": [],
   "source": [
    "from etl import *\n",
    "from translate import * "
   ]
  },
  {
   "cell_type": "code",
   "execution_count": null,
   "metadata": {},
   "outputs": [],
   "source": [
    "# perform data preprocessing and build models\n",
    "\n",
    "train_data, test_data, eng_vocab, jpn_vocab = load_and_process_data()\n",
    "results = train_all_models(eng_vocab, jpn_vocab, train_data, test_data)"
   ]
  },
  {
   "cell_type": "code",
   "execution_count": 7,
   "metadata": {},
   "outputs": [
    {
     "name": "stdout",
     "output_type": "stream",
     "text": [
      "Loaded CNN_Seq2Seq (CNN) from saved/CNN_Seq2Seq_weights.pt.\n"
     ]
    },
    {
     "data": {
      "text/plain": [
       "'階 階 階 階 階 階 外科 置い 置い 置い 置い 置い 置い 置い 置い 置い 置い'"
      ]
     },
     "execution_count": 7,
     "metadata": {},
     "output_type": "execute_result"
    }
   ],
   "source": [
    "# perform translation on best performing model (CNN + Seq2Seq)\n",
    "\n",
    "sentence = \"i intend to reimburse you .\"\n",
    "translate_sentence(sentence, model_name = 'CNN_Seq2Seq')"
   ]
  },
  {
   "cell_type": "markdown",
   "metadata": {},
   "source": [
    "Models can use:\n",
    "* `Transformer_Seq2Seq`\n",
    "* `CNN_Seq2Seq` *performs best\n",
    "* `LSTM_Seq2Seq` "
   ]
  },
  {
   "cell_type": "markdown",
   "metadata": {},
   "source": []
  }
 ],
 "metadata": {
  "kernelspec": {
   "display_name": "Python 3",
   "language": "python",
   "name": "python3"
  },
  "language_info": {
   "codemirror_mode": {
    "name": "ipython",
    "version": 3
   },
   "file_extension": ".py",
   "mimetype": "text/x-python",
   "name": "python",
   "nbconvert_exporter": "python",
   "pygments_lexer": "ipython3",
   "version": "3.8.16"
  }
 },
 "nbformat": 4,
 "nbformat_minor": 2
}
